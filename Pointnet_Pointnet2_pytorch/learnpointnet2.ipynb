{
 "cells": [
  {
   "cell_type": "code",
   "execution_count": 1,
   "metadata": {
    "collapsed": true
   },
   "outputs": [],
   "source": [
    "import os\n",
    "import sys\n",
    "import numpy as np\n",
    "import cv2\n",
    "import matplotlib.pyplot as plt\n",
    "import torch\n",
    "sys.path.append(r'E:\\course\\31\\machineLearning\\AIforMedicine\\re2D3D\\Pointnet_Pointnet2_pytorch')\n",
    "sys.path.append(r'E:\\course\\31\\machineLearning\\AIforMedicine\\re2D3D\\Pointnet_Pointnet2_pytorch\\models')\n",
    "from glob import glob\n",
    "from PIL import Image\n",
    "from tqdm import tqdm\n",
    "from log.sem_seg.pointnet2_sem_seg.pointnet2_sem_seg import get_model as pointnet"
   ]
  },
  {
   "cell_type": "code",
   "execution_count": 2,
   "outputs": [
    {
     "name": "stderr",
     "output_type": "stream",
     "text": [
      "C:\\Users\\HASEE\\AppData\\Local\\Temp\\ipykernel_25324\\1917243038.py:1: UserWarning: Failed to initialize NumPy: module compiled against API version 0x10 but this version of numpy is 0xe (Triggered internally at  ..\\torch\\csrc\\utils\\tensor_numpy.cpp:68.)\n",
      "  device = torch.device('cuda' if torch.cuda.is_available() else 'cpu')\n"
     ]
    },
    {
     "name": "stdout",
     "output_type": "stream",
     "text": [
      "device: cpu\n"
     ]
    },
    {
     "ename": "RuntimeError",
     "evalue": "Error(s) in loading state_dict for get_model:\n\tMissing key(s) in state_dict: \"sa1.mlp_convs.0.weight\", \"sa1.mlp_convs.0.bias\", \"sa1.mlp_convs.1.weight\", \"sa1.mlp_convs.1.bias\", \"sa1.mlp_convs.2.weight\", \"sa1.mlp_convs.2.bias\", \"sa1.mlp_bns.0.weight\", \"sa1.mlp_bns.0.bias\", \"sa1.mlp_bns.0.running_mean\", \"sa1.mlp_bns.0.running_var\", \"sa1.mlp_bns.1.weight\", \"sa1.mlp_bns.1.bias\", \"sa1.mlp_bns.1.running_mean\", \"sa1.mlp_bns.1.running_var\", \"sa1.mlp_bns.2.weight\", \"sa1.mlp_bns.2.bias\", \"sa1.mlp_bns.2.running_mean\", \"sa1.mlp_bns.2.running_var\", \"sa2.mlp_convs.0.weight\", \"sa2.mlp_convs.0.bias\", \"sa2.mlp_convs.1.weight\", \"sa2.mlp_convs.1.bias\", \"sa2.mlp_convs.2.weight\", \"sa2.mlp_convs.2.bias\", \"sa2.mlp_bns.0.weight\", \"sa2.mlp_bns.0.bias\", \"sa2.mlp_bns.0.running_mean\", \"sa2.mlp_bns.0.running_var\", \"sa2.mlp_bns.1.weight\", \"sa2.mlp_bns.1.bias\", \"sa2.mlp_bns.1.running_mean\", \"sa2.mlp_bns.1.running_var\", \"sa2.mlp_bns.2.weight\", \"sa2.mlp_bns.2.bias\", \"sa2.mlp_bns.2.running_mean\", \"sa2.mlp_bns.2.running_var\", \"sa3.mlp_convs.0.weight\", \"sa3.mlp_convs.0.bias\", \"sa3.mlp_convs.1.weight\", \"sa3.mlp_convs.1.bias\", \"sa3.mlp_convs.2.weight\", \"sa3.mlp_convs.2.bias\", \"sa3.mlp_bns.0.weight\", \"sa3.mlp_bns.0.bias\", \"sa3.mlp_bns.0.running_mean\", \"sa3.mlp_bns.0.running_var\", \"sa3.mlp_bns.1.weight\", \"sa3.mlp_bns.1.bias\", \"sa3.mlp_bns.1.running_mean\", \"sa3.mlp_bns.1.running_var\", \"sa3.mlp_bns.2.weight\", \"sa3.mlp_bns.2.bias\", \"sa3.mlp_bns.2.running_mean\", \"sa3.mlp_bns.2.running_var\", \"sa4.mlp_convs.0.weight\", \"sa4.mlp_convs.0.bias\", \"sa4.mlp_convs.1.weight\", \"sa4.mlp_convs.1.bias\", \"sa4.mlp_convs.2.weight\", \"sa4.mlp_convs.2.bias\", \"sa4.mlp_bns.0.weight\", \"sa4.mlp_bns.0.bias\", \"sa4.mlp_bns.0.running_mean\", \"sa4.mlp_bns.0.running_var\", \"sa4.mlp_bns.1.weight\", \"sa4.mlp_bns.1.bias\", \"sa4.mlp_bns.1.running_mean\", \"sa4.mlp_bns.1.running_var\", \"sa4.mlp_bns.2.weight\", \"sa4.mlp_bns.2.bias\", \"sa4.mlp_bns.2.running_mean\", \"sa4.mlp_bns.2.running_var\", \"fp4.mlp_convs.0.weight\", \"fp4.mlp_convs.0.bias\", \"fp4.mlp_convs.1.weight\", \"fp4.mlp_convs.1.bias\", \"fp4.mlp_bns.0.weight\", \"fp4.mlp_bns.0.bias\", \"fp4.mlp_bns.0.running_mean\", \"fp4.mlp_bns.0.running_var\", \"fp4.mlp_bns.1.weight\", \"fp4.mlp_bns.1.bias\", \"fp4.mlp_bns.1.running_mean\", \"fp4.mlp_bns.1.running_var\", \"fp3.mlp_convs.0.weight\", \"fp3.mlp_convs.0.bias\", \"fp3.mlp_convs.1.weight\", \"fp3.mlp_convs.1.bias\", \"fp3.mlp_bns.0.weight\", \"fp3.mlp_bns.0.bias\", \"fp3.mlp_bns.0.running_mean\", \"fp3.mlp_bns.0.running_var\", \"fp3.mlp_bns.1.weight\", \"fp3.mlp_bns.1.bias\", \"fp3.mlp_bns.1.running_mean\", \"fp3.mlp_bns.1.running_var\", \"fp2.mlp_convs.0.weight\", \"fp2.mlp_convs.0.bias\", \"fp2.mlp_convs.1.weight\", \"fp2.mlp_convs.1.bias\", \"fp2.mlp_bns.0.weight\", \"fp2.mlp_bns.0.bias\", \"fp2.mlp_bns.0.running_mean\", \"fp2.mlp_bns.0.running_var\", \"fp2.mlp_bns.1.weight\", \"fp2.mlp_bns.1.bias\", \"fp2.mlp_bns.1.running_mean\", \"fp2.mlp_bns.1.running_var\", \"fp1.mlp_convs.0.weight\", \"fp1.mlp_convs.0.bias\", \"fp1.mlp_convs.1.weight\", \"fp1.mlp_convs.1.bias\", \"fp1.mlp_convs.2.weight\", \"fp1.mlp_convs.2.bias\", \"fp1.mlp_bns.0.weight\", \"fp1.mlp_bns.0.bias\", \"fp1.mlp_bns.0.running_mean\", \"fp1.mlp_bns.0.running_var\", \"fp1.mlp_bns.1.weight\", \"fp1.mlp_bns.1.bias\", \"fp1.mlp_bns.1.running_mean\", \"fp1.mlp_bns.1.running_var\", \"fp1.mlp_bns.2.weight\", \"fp1.mlp_bns.2.bias\", \"fp1.mlp_bns.2.running_mean\", \"fp1.mlp_bns.2.running_var\", \"conv1.weight\", \"conv1.bias\", \"bn1.weight\", \"bn1.bias\", \"bn1.running_mean\", \"bn1.running_var\", \"conv2.weight\", \"conv2.bias\". \n\tUnexpected key(s) in state_dict: \"epoch\", \"class_avg_iou\", \"model_state_dict\", \"optimizer_state_dict\". ",
     "output_type": "error",
     "traceback": [
      "\u001B[1;31m---------------------------------------------------------------------------\u001B[0m",
      "\u001B[1;31mRuntimeError\u001B[0m                              Traceback (most recent call last)",
      "Cell \u001B[1;32mIn [2], line 9\u001B[0m\n\u001B[0;32m      7\u001B[0m pth \u001B[38;5;241m=\u001B[39m torch\u001B[38;5;241m.\u001B[39mload(weights_path,map_location\u001B[38;5;241m=\u001B[39mdevice)\n\u001B[0;32m      8\u001B[0m model\u001B[38;5;241m.\u001B[39mto(device)\n\u001B[1;32m----> 9\u001B[0m \u001B[43mmodel\u001B[49m\u001B[38;5;241;43m.\u001B[39;49m\u001B[43mload_state_dict\u001B[49m\u001B[43m(\u001B[49m\u001B[43mpth\u001B[49m\u001B[43m)\u001B[49m\n",
      "File \u001B[1;32mF:\\Python\\Python310\\lib\\site-packages\\torch\\nn\\modules\\module.py:1604\u001B[0m, in \u001B[0;36mModule.load_state_dict\u001B[1;34m(self, state_dict, strict)\u001B[0m\n\u001B[0;32m   1599\u001B[0m         error_msgs\u001B[38;5;241m.\u001B[39minsert(\n\u001B[0;32m   1600\u001B[0m             \u001B[38;5;241m0\u001B[39m, \u001B[38;5;124m'\u001B[39m\u001B[38;5;124mMissing key(s) in state_dict: \u001B[39m\u001B[38;5;132;01m{}\u001B[39;00m\u001B[38;5;124m. \u001B[39m\u001B[38;5;124m'\u001B[39m\u001B[38;5;241m.\u001B[39mformat(\n\u001B[0;32m   1601\u001B[0m                 \u001B[38;5;124m'\u001B[39m\u001B[38;5;124m, \u001B[39m\u001B[38;5;124m'\u001B[39m\u001B[38;5;241m.\u001B[39mjoin(\u001B[38;5;124m'\u001B[39m\u001B[38;5;124m\"\u001B[39m\u001B[38;5;132;01m{}\u001B[39;00m\u001B[38;5;124m\"\u001B[39m\u001B[38;5;124m'\u001B[39m\u001B[38;5;241m.\u001B[39mformat(k) \u001B[38;5;28;01mfor\u001B[39;00m k \u001B[38;5;129;01min\u001B[39;00m missing_keys)))\n\u001B[0;32m   1603\u001B[0m \u001B[38;5;28;01mif\u001B[39;00m \u001B[38;5;28mlen\u001B[39m(error_msgs) \u001B[38;5;241m>\u001B[39m \u001B[38;5;241m0\u001B[39m:\n\u001B[1;32m-> 1604\u001B[0m     \u001B[38;5;28;01mraise\u001B[39;00m \u001B[38;5;167;01mRuntimeError\u001B[39;00m(\u001B[38;5;124m'\u001B[39m\u001B[38;5;124mError(s) in loading state_dict for \u001B[39m\u001B[38;5;132;01m{}\u001B[39;00m\u001B[38;5;124m:\u001B[39m\u001B[38;5;130;01m\\n\u001B[39;00m\u001B[38;5;130;01m\\t\u001B[39;00m\u001B[38;5;132;01m{}\u001B[39;00m\u001B[38;5;124m'\u001B[39m\u001B[38;5;241m.\u001B[39mformat(\n\u001B[0;32m   1605\u001B[0m                        \u001B[38;5;28mself\u001B[39m\u001B[38;5;241m.\u001B[39m\u001B[38;5;18m__class__\u001B[39m\u001B[38;5;241m.\u001B[39m\u001B[38;5;18m__name__\u001B[39m, \u001B[38;5;124m\"\u001B[39m\u001B[38;5;130;01m\\n\u001B[39;00m\u001B[38;5;130;01m\\t\u001B[39;00m\u001B[38;5;124m\"\u001B[39m\u001B[38;5;241m.\u001B[39mjoin(error_msgs)))\n\u001B[0;32m   1606\u001B[0m \u001B[38;5;28;01mreturn\u001B[39;00m _IncompatibleKeys(missing_keys, unexpected_keys)\n",
      "\u001B[1;31mRuntimeError\u001B[0m: Error(s) in loading state_dict for get_model:\n\tMissing key(s) in state_dict: \"sa1.mlp_convs.0.weight\", \"sa1.mlp_convs.0.bias\", \"sa1.mlp_convs.1.weight\", \"sa1.mlp_convs.1.bias\", \"sa1.mlp_convs.2.weight\", \"sa1.mlp_convs.2.bias\", \"sa1.mlp_bns.0.weight\", \"sa1.mlp_bns.0.bias\", \"sa1.mlp_bns.0.running_mean\", \"sa1.mlp_bns.0.running_var\", \"sa1.mlp_bns.1.weight\", \"sa1.mlp_bns.1.bias\", \"sa1.mlp_bns.1.running_mean\", \"sa1.mlp_bns.1.running_var\", \"sa1.mlp_bns.2.weight\", \"sa1.mlp_bns.2.bias\", \"sa1.mlp_bns.2.running_mean\", \"sa1.mlp_bns.2.running_var\", \"sa2.mlp_convs.0.weight\", \"sa2.mlp_convs.0.bias\", \"sa2.mlp_convs.1.weight\", \"sa2.mlp_convs.1.bias\", \"sa2.mlp_convs.2.weight\", \"sa2.mlp_convs.2.bias\", \"sa2.mlp_bns.0.weight\", \"sa2.mlp_bns.0.bias\", \"sa2.mlp_bns.0.running_mean\", \"sa2.mlp_bns.0.running_var\", \"sa2.mlp_bns.1.weight\", \"sa2.mlp_bns.1.bias\", \"sa2.mlp_bns.1.running_mean\", \"sa2.mlp_bns.1.running_var\", \"sa2.mlp_bns.2.weight\", \"sa2.mlp_bns.2.bias\", \"sa2.mlp_bns.2.running_mean\", \"sa2.mlp_bns.2.running_var\", \"sa3.mlp_convs.0.weight\", \"sa3.mlp_convs.0.bias\", \"sa3.mlp_convs.1.weight\", \"sa3.mlp_convs.1.bias\", \"sa3.mlp_convs.2.weight\", \"sa3.mlp_convs.2.bias\", \"sa3.mlp_bns.0.weight\", \"sa3.mlp_bns.0.bias\", \"sa3.mlp_bns.0.running_mean\", \"sa3.mlp_bns.0.running_var\", \"sa3.mlp_bns.1.weight\", \"sa3.mlp_bns.1.bias\", \"sa3.mlp_bns.1.running_mean\", \"sa3.mlp_bns.1.running_var\", \"sa3.mlp_bns.2.weight\", \"sa3.mlp_bns.2.bias\", \"sa3.mlp_bns.2.running_mean\", \"sa3.mlp_bns.2.running_var\", \"sa4.mlp_convs.0.weight\", \"sa4.mlp_convs.0.bias\", \"sa4.mlp_convs.1.weight\", \"sa4.mlp_convs.1.bias\", \"sa4.mlp_convs.2.weight\", \"sa4.mlp_convs.2.bias\", \"sa4.mlp_bns.0.weight\", \"sa4.mlp_bns.0.bias\", \"sa4.mlp_bns.0.running_mean\", \"sa4.mlp_bns.0.running_var\", \"sa4.mlp_bns.1.weight\", \"sa4.mlp_bns.1.bias\", \"sa4.mlp_bns.1.running_mean\", \"sa4.mlp_bns.1.running_var\", \"sa4.mlp_bns.2.weight\", \"sa4.mlp_bns.2.bias\", \"sa4.mlp_bns.2.running_mean\", \"sa4.mlp_bns.2.running_var\", \"fp4.mlp_convs.0.weight\", \"fp4.mlp_convs.0.bias\", \"fp4.mlp_convs.1.weight\", \"fp4.mlp_convs.1.bias\", \"fp4.mlp_bns.0.weight\", \"fp4.mlp_bns.0.bias\", \"fp4.mlp_bns.0.running_mean\", \"fp4.mlp_bns.0.running_var\", \"fp4.mlp_bns.1.weight\", \"fp4.mlp_bns.1.bias\", \"fp4.mlp_bns.1.running_mean\", \"fp4.mlp_bns.1.running_var\", \"fp3.mlp_convs.0.weight\", \"fp3.mlp_convs.0.bias\", \"fp3.mlp_convs.1.weight\", \"fp3.mlp_convs.1.bias\", \"fp3.mlp_bns.0.weight\", \"fp3.mlp_bns.0.bias\", \"fp3.mlp_bns.0.running_mean\", \"fp3.mlp_bns.0.running_var\", \"fp3.mlp_bns.1.weight\", \"fp3.mlp_bns.1.bias\", \"fp3.mlp_bns.1.running_mean\", \"fp3.mlp_bns.1.running_var\", \"fp2.mlp_convs.0.weight\", \"fp2.mlp_convs.0.bias\", \"fp2.mlp_convs.1.weight\", \"fp2.mlp_convs.1.bias\", \"fp2.mlp_bns.0.weight\", \"fp2.mlp_bns.0.bias\", \"fp2.mlp_bns.0.running_mean\", \"fp2.mlp_bns.0.running_var\", \"fp2.mlp_bns.1.weight\", \"fp2.mlp_bns.1.bias\", \"fp2.mlp_bns.1.running_mean\", \"fp2.mlp_bns.1.running_var\", \"fp1.mlp_convs.0.weight\", \"fp1.mlp_convs.0.bias\", \"fp1.mlp_convs.1.weight\", \"fp1.mlp_convs.1.bias\", \"fp1.mlp_convs.2.weight\", \"fp1.mlp_convs.2.bias\", \"fp1.mlp_bns.0.weight\", \"fp1.mlp_bns.0.bias\", \"fp1.mlp_bns.0.running_mean\", \"fp1.mlp_bns.0.running_var\", \"fp1.mlp_bns.1.weight\", \"fp1.mlp_bns.1.bias\", \"fp1.mlp_bns.1.running_mean\", \"fp1.mlp_bns.1.running_var\", \"fp1.mlp_bns.2.weight\", \"fp1.mlp_bns.2.bias\", \"fp1.mlp_bns.2.running_mean\", \"fp1.mlp_bns.2.running_var\", \"conv1.weight\", \"conv1.bias\", \"bn1.weight\", \"bn1.bias\", \"bn1.running_mean\", \"bn1.running_var\", \"conv2.weight\", \"conv2.bias\". \n\tUnexpected key(s) in state_dict: \"epoch\", \"class_avg_iou\", \"model_state_dict\", \"optimizer_state_dict\". "
     ]
    }
   ],
   "source": [
    "device = torch.device('cuda' if torch.cuda.is_available() else 'cpu')\n",
    "print(f'device: {device}')\n",
    "\n",
    "model = pointnet(5)\n",
    "weights_path = r'E:\\course\\31\\machineLearning\\AIforMedicine\\re2D3D\\Pointnet_Pointnet2_pytorch\\log\\sem_seg\\pointnet2_sem_seg\\checkpoints\\best_model.pth'\n",
    "\n",
    "pth = torch.load(weights_path,map_location=device)\n",
    "model.to(device)\n",
    "model.load_state_dict(pth) #先这样 虽然load_state_dict有点错误 但是这种load权重文件的方法和使用模型的方法是值得我们学习的\n"
   ],
   "metadata": {
    "collapsed": false
   }
  },
  {
   "cell_type": "markdown",
   "source": [],
   "metadata": {
    "collapsed": false
   }
  },
  {
   "cell_type": "code",
   "execution_count": null,
   "outputs": [],
   "source": [],
   "metadata": {
    "collapsed": false
   }
  }
 ],
 "metadata": {
  "kernelspec": {
   "display_name": "Python 3",
   "language": "python",
   "name": "python3"
  },
  "language_info": {
   "codemirror_mode": {
    "name": "ipython",
    "version": 2
   },
   "file_extension": ".py",
   "mimetype": "text/x-python",
   "name": "python",
   "nbconvert_exporter": "python",
   "pygments_lexer": "ipython2",
   "version": "2.7.6"
  }
 },
 "nbformat": 4,
 "nbformat_minor": 0
}
