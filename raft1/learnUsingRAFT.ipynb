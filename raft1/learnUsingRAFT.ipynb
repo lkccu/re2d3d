{
 "cells": [
  {
   "cell_type": "code",
   "execution_count": 1,
   "metadata": {
    "collapsed": true
   },
   "outputs": [],
   "source": [
    "import pandas as pd # data processing, CSV file I/O (e.g. pd.read_csv)\n",
    "from os import walk\n",
    "import ast\n",
    "import matplotlib.cm as cm\n",
    "import matplotlib.animation as animation\n",
    "import time\n",
    "import pickle"
   ]
  },
  {
   "cell_type": "code",
   "execution_count": 2,
   "metadata": {},
   "outputs": [],
   "source": [
    "import os\n",
    "import sys\n",
    "import numpy as np\n",
    "import cv2\n",
    "import matplotlib.pyplot as plt\n",
    "import torch\n",
    "sys.path.append(r'E:\\course\\31\\machineLearning\\AIforMedicine\\re2D3D\\raft')\n",
    "sys.path.append(r'E:\\course\\31\\machineLearning\\AIforMedicine\\re2D3D\\raft\\core')\n",
    "\n",
    "from glob import glob\n",
    "from PIL import Image\n",
    "from tqdm import tqdm\n"
   ]
  },
  {
   "cell_type": "code",
   "execution_count": 8,
   "metadata": {},
   "outputs": [],
   "source": [
    "from raft.core.raft import RAFT\n",
    "from raft.core.utils import flow_viz\n",
    "from raft.core.utils.utils import InputPadder\n",
    "from raft.config import RAFTConfig"
   ]
  },
  {
   "cell_type": "code",
   "execution_count": 8,
   "outputs": [],
   "source": [],
   "metadata": {
    "collapsed": false
   }
  },
  {
   "cell_type": "code",
   "execution_count": 9,
   "metadata": {},
   "outputs": [
    {
     "name": "stdout",
     "output_type": "stream",
     "text": [
      "Namespace(dropout=0, alternate_corr=False, small=False, mixed_precision=False)\n"
     ]
    },
    {
     "name": "stderr",
     "output_type": "stream",
     "text": [
      "F:\\Python\\Python310\\lib\\site-packages\\torch\\nn\\modules\\conv.py:131: UserWarning: Failed to initialize NumPy: module compiled against API version 0x10 but this version of numpy is 0xe (Triggered internally at  ..\\torch\\csrc\\utils\\tensor_numpy.cpp:68.)\n",
      "  self.weight = Parameter(torch.empty(\n"
     ]
    },
    {
     "data": {
      "text/plain": "RAFT(\n  (fnet): BasicEncoder(\n    (norm1): InstanceNorm2d(64, eps=1e-05, momentum=0.1, affine=False, track_running_stats=False)\n    (conv1): Conv2d(3, 64, kernel_size=(7, 7), stride=(2, 2), padding=(3, 3))\n    (relu1): ReLU(inplace=True)\n    (layer1): Sequential(\n      (0): ResidualBlock(\n        (conv1): Conv2d(64, 64, kernel_size=(3, 3), stride=(1, 1), padding=(1, 1))\n        (conv2): Conv2d(64, 64, kernel_size=(3, 3), stride=(1, 1), padding=(1, 1))\n        (relu): ReLU(inplace=True)\n        (norm1): InstanceNorm2d(64, eps=1e-05, momentum=0.1, affine=False, track_running_stats=False)\n        (norm2): InstanceNorm2d(64, eps=1e-05, momentum=0.1, affine=False, track_running_stats=False)\n      )\n      (1): ResidualBlock(\n        (conv1): Conv2d(64, 64, kernel_size=(3, 3), stride=(1, 1), padding=(1, 1))\n        (conv2): Conv2d(64, 64, kernel_size=(3, 3), stride=(1, 1), padding=(1, 1))\n        (relu): ReLU(inplace=True)\n        (norm1): InstanceNorm2d(64, eps=1e-05, momentum=0.1, affine=False, track_running_stats=False)\n        (norm2): InstanceNorm2d(64, eps=1e-05, momentum=0.1, affine=False, track_running_stats=False)\n      )\n    )\n    (layer2): Sequential(\n      (0): ResidualBlock(\n        (conv1): Conv2d(64, 96, kernel_size=(3, 3), stride=(2, 2), padding=(1, 1))\n        (conv2): Conv2d(96, 96, kernel_size=(3, 3), stride=(1, 1), padding=(1, 1))\n        (relu): ReLU(inplace=True)\n        (norm1): InstanceNorm2d(96, eps=1e-05, momentum=0.1, affine=False, track_running_stats=False)\n        (norm2): InstanceNorm2d(96, eps=1e-05, momentum=0.1, affine=False, track_running_stats=False)\n        (norm3): InstanceNorm2d(96, eps=1e-05, momentum=0.1, affine=False, track_running_stats=False)\n        (downsample): Sequential(\n          (0): Conv2d(64, 96, kernel_size=(1, 1), stride=(2, 2))\n          (1): InstanceNorm2d(96, eps=1e-05, momentum=0.1, affine=False, track_running_stats=False)\n        )\n      )\n      (1): ResidualBlock(\n        (conv1): Conv2d(96, 96, kernel_size=(3, 3), stride=(1, 1), padding=(1, 1))\n        (conv2): Conv2d(96, 96, kernel_size=(3, 3), stride=(1, 1), padding=(1, 1))\n        (relu): ReLU(inplace=True)\n        (norm1): InstanceNorm2d(96, eps=1e-05, momentum=0.1, affine=False, track_running_stats=False)\n        (norm2): InstanceNorm2d(96, eps=1e-05, momentum=0.1, affine=False, track_running_stats=False)\n      )\n    )\n    (layer3): Sequential(\n      (0): ResidualBlock(\n        (conv1): Conv2d(96, 128, kernel_size=(3, 3), stride=(2, 2), padding=(1, 1))\n        (conv2): Conv2d(128, 128, kernel_size=(3, 3), stride=(1, 1), padding=(1, 1))\n        (relu): ReLU(inplace=True)\n        (norm1): InstanceNorm2d(128, eps=1e-05, momentum=0.1, affine=False, track_running_stats=False)\n        (norm2): InstanceNorm2d(128, eps=1e-05, momentum=0.1, affine=False, track_running_stats=False)\n        (norm3): InstanceNorm2d(128, eps=1e-05, momentum=0.1, affine=False, track_running_stats=False)\n        (downsample): Sequential(\n          (0): Conv2d(96, 128, kernel_size=(1, 1), stride=(2, 2))\n          (1): InstanceNorm2d(128, eps=1e-05, momentum=0.1, affine=False, track_running_stats=False)\n        )\n      )\n      (1): ResidualBlock(\n        (conv1): Conv2d(128, 128, kernel_size=(3, 3), stride=(1, 1), padding=(1, 1))\n        (conv2): Conv2d(128, 128, kernel_size=(3, 3), stride=(1, 1), padding=(1, 1))\n        (relu): ReLU(inplace=True)\n        (norm1): InstanceNorm2d(128, eps=1e-05, momentum=0.1, affine=False, track_running_stats=False)\n        (norm2): InstanceNorm2d(128, eps=1e-05, momentum=0.1, affine=False, track_running_stats=False)\n      )\n    )\n    (conv2): Conv2d(128, 256, kernel_size=(1, 1), stride=(1, 1))\n  )\n  (cnet): BasicEncoder(\n    (norm1): BatchNorm2d(64, eps=1e-05, momentum=0.1, affine=True, track_running_stats=True)\n    (conv1): Conv2d(3, 64, kernel_size=(7, 7), stride=(2, 2), padding=(3, 3))\n    (relu1): ReLU(inplace=True)\n    (layer1): Sequential(\n      (0): ResidualBlock(\n        (conv1): Conv2d(64, 64, kernel_size=(3, 3), stride=(1, 1), padding=(1, 1))\n        (conv2): Conv2d(64, 64, kernel_size=(3, 3), stride=(1, 1), padding=(1, 1))\n        (relu): ReLU(inplace=True)\n        (norm1): BatchNorm2d(64, eps=1e-05, momentum=0.1, affine=True, track_running_stats=True)\n        (norm2): BatchNorm2d(64, eps=1e-05, momentum=0.1, affine=True, track_running_stats=True)\n      )\n      (1): ResidualBlock(\n        (conv1): Conv2d(64, 64, kernel_size=(3, 3), stride=(1, 1), padding=(1, 1))\n        (conv2): Conv2d(64, 64, kernel_size=(3, 3), stride=(1, 1), padding=(1, 1))\n        (relu): ReLU(inplace=True)\n        (norm1): BatchNorm2d(64, eps=1e-05, momentum=0.1, affine=True, track_running_stats=True)\n        (norm2): BatchNorm2d(64, eps=1e-05, momentum=0.1, affine=True, track_running_stats=True)\n      )\n    )\n    (layer2): Sequential(\n      (0): ResidualBlock(\n        (conv1): Conv2d(64, 96, kernel_size=(3, 3), stride=(2, 2), padding=(1, 1))\n        (conv2): Conv2d(96, 96, kernel_size=(3, 3), stride=(1, 1), padding=(1, 1))\n        (relu): ReLU(inplace=True)\n        (norm1): BatchNorm2d(96, eps=1e-05, momentum=0.1, affine=True, track_running_stats=True)\n        (norm2): BatchNorm2d(96, eps=1e-05, momentum=0.1, affine=True, track_running_stats=True)\n        (norm3): BatchNorm2d(96, eps=1e-05, momentum=0.1, affine=True, track_running_stats=True)\n        (downsample): Sequential(\n          (0): Conv2d(64, 96, kernel_size=(1, 1), stride=(2, 2))\n          (1): BatchNorm2d(96, eps=1e-05, momentum=0.1, affine=True, track_running_stats=True)\n        )\n      )\n      (1): ResidualBlock(\n        (conv1): Conv2d(96, 96, kernel_size=(3, 3), stride=(1, 1), padding=(1, 1))\n        (conv2): Conv2d(96, 96, kernel_size=(3, 3), stride=(1, 1), padding=(1, 1))\n        (relu): ReLU(inplace=True)\n        (norm1): BatchNorm2d(96, eps=1e-05, momentum=0.1, affine=True, track_running_stats=True)\n        (norm2): BatchNorm2d(96, eps=1e-05, momentum=0.1, affine=True, track_running_stats=True)\n      )\n    )\n    (layer3): Sequential(\n      (0): ResidualBlock(\n        (conv1): Conv2d(96, 128, kernel_size=(3, 3), stride=(2, 2), padding=(1, 1))\n        (conv2): Conv2d(128, 128, kernel_size=(3, 3), stride=(1, 1), padding=(1, 1))\n        (relu): ReLU(inplace=True)\n        (norm1): BatchNorm2d(128, eps=1e-05, momentum=0.1, affine=True, track_running_stats=True)\n        (norm2): BatchNorm2d(128, eps=1e-05, momentum=0.1, affine=True, track_running_stats=True)\n        (norm3): BatchNorm2d(128, eps=1e-05, momentum=0.1, affine=True, track_running_stats=True)\n        (downsample): Sequential(\n          (0): Conv2d(96, 128, kernel_size=(1, 1), stride=(2, 2))\n          (1): BatchNorm2d(128, eps=1e-05, momentum=0.1, affine=True, track_running_stats=True)\n        )\n      )\n      (1): ResidualBlock(\n        (conv1): Conv2d(128, 128, kernel_size=(3, 3), stride=(1, 1), padding=(1, 1))\n        (conv2): Conv2d(128, 128, kernel_size=(3, 3), stride=(1, 1), padding=(1, 1))\n        (relu): ReLU(inplace=True)\n        (norm1): BatchNorm2d(128, eps=1e-05, momentum=0.1, affine=True, track_running_stats=True)\n        (norm2): BatchNorm2d(128, eps=1e-05, momentum=0.1, affine=True, track_running_stats=True)\n      )\n    )\n    (conv2): Conv2d(128, 256, kernel_size=(1, 1), stride=(1, 1))\n  )\n  (update_block): BasicUpdateBlock(\n    (encoder): BasicMotionEncoder(\n      (convc1): Conv2d(324, 256, kernel_size=(1, 1), stride=(1, 1))\n      (convc2): Conv2d(256, 192, kernel_size=(3, 3), stride=(1, 1), padding=(1, 1))\n      (convf1): Conv2d(2, 128, kernel_size=(7, 7), stride=(1, 1), padding=(3, 3))\n      (convf2): Conv2d(128, 64, kernel_size=(3, 3), stride=(1, 1), padding=(1, 1))\n      (conv): Conv2d(256, 126, kernel_size=(3, 3), stride=(1, 1), padding=(1, 1))\n    )\n    (gru): SepConvGRU(\n      (convz1): Conv2d(384, 128, kernel_size=(1, 5), stride=(1, 1), padding=(0, 2))\n      (convr1): Conv2d(384, 128, kernel_size=(1, 5), stride=(1, 1), padding=(0, 2))\n      (convq1): Conv2d(384, 128, kernel_size=(1, 5), stride=(1, 1), padding=(0, 2))\n      (convz2): Conv2d(384, 128, kernel_size=(5, 1), stride=(1, 1), padding=(2, 0))\n      (convr2): Conv2d(384, 128, kernel_size=(5, 1), stride=(1, 1), padding=(2, 0))\n      (convq2): Conv2d(384, 128, kernel_size=(5, 1), stride=(1, 1), padding=(2, 0))\n    )\n    (flow_head): FlowHead(\n      (conv1): Conv2d(128, 256, kernel_size=(3, 3), stride=(1, 1), padding=(1, 1))\n      (conv2): Conv2d(256, 2, kernel_size=(3, 3), stride=(1, 1), padding=(1, 1))\n      (relu): ReLU(inplace=True)\n    )\n    (mask): Sequential(\n      (0): Conv2d(128, 256, kernel_size=(3, 3), stride=(1, 1), padding=(1, 1))\n      (1): ReLU(inplace=True)\n      (2): Conv2d(256, 576, kernel_size=(1, 1), stride=(1, 1))\n    )\n  )\n)"
     },
     "execution_count": 9,
     "metadata": {},
     "output_type": "execute_result"
    }
   ],
   "source": [
    "config = RAFTConfig(\n",
    "    0,\n",
    "    False,\n",
    "    False,\n",
    "    False\n",
    ")\n",
    "\n",
    "model = RAFT(config)\n",
    "model"
   ]
  },
  {
   "cell_type": "code",
   "execution_count": null,
   "metadata": {},
   "outputs": [],
   "source": [
    "device = torch.device('cuda' if torch.cuda.is_available() else 'cpu')\n",
    "print(f'device: {device}')\n",
    "\n",
    "weights_path = '/kaggle/input/raft-pytorch/raft-sintel.pth'\n",
    "# weights_path = '/kaggle/input/raft-pytorch/raft-things.pth'\n",
    "\n",
    "ckpt = torch.load(weights_path, map_location=device)\n",
    "model.to(device)\n",
    "model.load_state_dict(ckpt)"
   ]
  },
  {
   "cell_type": "code",
   "execution_count": 8,
   "outputs": [
    {
     "name": "stdout",
     "output_type": "stream",
     "text": [
      "(10,)\n",
      "Found 10 images\n",
      "['E:\\\\course\\\\31\\\\machineLearning\\\\AIforMedicine\\\\re2D3D\\\\raft\\\\demo-frames\\\\frame_0016.png', 'E:\\\\course\\\\31\\\\machineLearning\\\\AIforMedicine\\\\re2D3D\\\\raft\\\\demo-frames\\\\frame_0017.png', 'E:\\\\course\\\\31\\\\machineLearning\\\\AIforMedicine\\\\re2D3D\\\\raft\\\\demo-frames\\\\frame_0018.png', 'E:\\\\course\\\\31\\\\machineLearning\\\\AIforMedicine\\\\re2D3D\\\\raft\\\\demo-frames\\\\frame_0019.png', 'E:\\\\course\\\\31\\\\machineLearning\\\\AIforMedicine\\\\re2D3D\\\\raft\\\\demo-frames\\\\frame_0020.png', 'E:\\\\course\\\\31\\\\machineLearning\\\\AIforMedicine\\\\re2D3D\\\\raft\\\\demo-frames\\\\frame_0021.png', 'E:\\\\course\\\\31\\\\machineLearning\\\\AIforMedicine\\\\re2D3D\\\\raft\\\\demo-frames\\\\frame_0022.png', 'E:\\\\course\\\\31\\\\machineLearning\\\\AIforMedicine\\\\re2D3D\\\\raft\\\\demo-frames\\\\frame_0023.png', 'E:\\\\course\\\\31\\\\machineLearning\\\\AIforMedicine\\\\re2D3D\\\\raft\\\\demo-frames\\\\frame_0024.png', 'E:\\\\course\\\\31\\\\machineLearning\\\\AIforMedicine\\\\re2D3D\\\\raft\\\\demo-frames\\\\frame_0025.png']\n"
     ]
    }
   ],
   "source": [
    "drr_image_files = glob(r'E:\\course\\31\\machineLearning\\AIforMedicine\\re2D3D\\raft\\drr_real\\drr\\*.png')#return满足条件的list or .jpg看到时候的xray使用什么来保存\n",
    "xray_image_files = glob(r'E:\\course\\31\\machineLearning\\AIforMedicine\\re2D3D\\raft\\drr_real\\x-ray\\*.png')#return满足条件的list or .jpg看到时候的xray使用什么来保存\n",
    "drr_image_files = sorted(drr_image_files)#Return a new list containing all items from the iterable in ascending order.\n",
    "xray_image_files = sorted(xray_image_files)#Return a new list containing all items from the iterable in ascending order.\n",
    "\n",
    "print(np.shape(drr_image_files))\n",
    "print(np.shape(xray_image_files))"
   ],
   "metadata": {
    "collapsed": false
   }
  },
  {
   "cell_type": "code",
   "execution_count": null,
   "outputs": [],
   "source": [
    "def load_image(imfile, device):\n",
    "    img = np.array(Image.open(imfile)).astype(np.uint8)\n",
    "    img = torch.from_numpy(img).permute(2, 0, 1).float()\n",
    "    return img[None].to(device)\n",
    "\n",
    "\n",
    "def viz(img1, img2, flo):# do visualization work\n",
    "    img1 = img1[0].permute(1,2,0).cpu().numpy()\n",
    "    img2 = img2[0].permute(1,2,0).cpu().numpy()\n",
    "\n",
    "    flo_mean = np.mean(flo.cpu().numpy())\n",
    "    flo_std = np.std(flo.cpu().numpy())\n",
    "\n",
    "    flo = flo[0].permute(1,2,0).cpu().numpy()\n",
    "\n",
    "    # map flow to rgb image\n",
    "    flo = flow_viz.flow_to_image(flo)\n",
    "\n",
    "    fig, (ax1, ax2, ax3) = plt.subplots(1, 3, figsize=(20, 4))\n",
    "    ax1.set_title('input image1')\n",
    "    ax1.imshow(img1.astype(int))\n",
    "    ax2.set_title('input image2')\n",
    "    ax2.imshow(img2.astype(int))\n",
    "    ax3.set_title(f'optical flow: mean{flo_mean:.1f}, std{flo_std:.1f}')\n",
    "    cm = ax3.imshow(flo)\n",
    "    fig.colorbar(cm)\n",
    "#    plt.colorbar()\n",
    "    plt.show()"
   ],
   "metadata": {
    "collapsed": false
   }
  },
  {
   "cell_type": "code",
   "execution_count": null,
   "outputs": [],
   "source": [
    "model.eval()\n",
    "n_vis = 3\n",
    "\n",
    "for file1, file2 in tqdm(zip(drr_image_files[:n_vis], drr_image_files[:n_vis])):#[:n]取出list中的前n个元素\n",
    "    image1 = load_image(file1, device)\n",
    "    image2 = load_image(file2, device)\n",
    "\n",
    "    padder = InputPadder(image1.shape)\n",
    "    image1, image2 = padder.pad(image1, image2)\n",
    "\n",
    "    with torch.no_grad():\n",
    "        flow_low, flow_up = model(image1, image2, iters=20, test_mode=True)\n",
    "\n",
    "    viz(image1, image2, flow_up)"
   ],
   "metadata": {
    "collapsed": false
   }
  }
 ],
 "metadata": {
  "kernelspec": {
   "display_name": "Python 3 (ipykernel)",
   "language": "python",
   "name": "python3"
  },
  "language_info": {
   "codemirror_mode": {
    "name": "ipython",
    "version": 3
   },
   "file_extension": ".py",
   "mimetype": "text/x-python",
   "name": "python",
   "nbconvert_exporter": "python",
   "pygments_lexer": "ipython3",
   "version": "3.10.0"
  }
 },
 "nbformat": 4,
 "nbformat_minor": 1
}
