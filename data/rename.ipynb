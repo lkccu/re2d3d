{
 "cells": [
  {
   "cell_type": "code",
   "execution_count": null,
   "metadata": {
    "collapsed": true
   },
   "outputs": [],
   "source": []
  },
  {
   "cell_type": "markdown",
   "source": [],
   "metadata": {
    "collapsed": false
   }
  },
  {
   "cell_type": "code",
   "execution_count": 8,
   "outputs": [
    {
     "name": "stdout",
     "output_type": "stream",
     "text": [
      "files: ['1.nrrd.nrrd', '10.nrrd.nrrd', '100.nrrd.nrrd', '101.nrrd.nrrd', '102.nrrd.nrrd', '103.nrrd.nrrd', '104.nrrd.nrrd', '105.nrrd.nrrd', '106.nrrd.nrrd', '107.nrrd.nrrd', '108.nrrd.nrrd', '109.nrrd.nrrd', '11.nrrd.nrrd', '110.nrrd.nrrd', '111.nrrd.nrrd', '112.nrrd.nrrd', '113.nrrd.nrrd', '114.nrrd.nrrd', '115.nrrd.nrrd', '116.nrrd.nrrd', '117.nrrd.nrrd', '118.nrrd.nrrd', '119.nrrd.nrrd', '12.nrrd.nrrd', '120.nrrd.nrrd', '121.nrrd.nrrd', '122.nrrd.nrrd', '123.nrrd.nrrd', '124.nrrd.nrrd', '125.nrrd.nrrd', '126.nrrd.nrrd', '127.nrrd.nrrd', '128.nrrd.nrrd', '129.nrrd.nrrd', '13.nrrd.nrrd', '130.nrrd.nrrd', '131.nrrd.nrrd', '132.nrrd.nrrd', '133.nrrd.nrrd', '134.nrrd.nrrd', '135.nrrd.nrrd', '136.nrrd.nrrd', '137.nrrd.nrrd', '138.nrrd.nrrd', '139.nrrd.nrrd', '14.nrrd.nrrd', '140.nrrd.nrrd', '141.nrrd.nrrd', '142.nrrd.nrrd', '143.nrrd.nrrd', '144.nrrd.nrrd', '145.nrrd.nrrd', '146.nrrd.nrrd', '147.nrrd.nrrd', '148.nrrd.nrrd', '149.nrrd.nrrd', '15.nrrd.nrrd', '150.nrrd.nrrd', '151.nrrd.nrrd', '152.nrrd.nrrd', '153.nrrd.nrrd', '154.nrrd.nrrd', '155.nrrd.nrrd', '156.nrrd.nrrd', '157.nrrd.nrrd', '158.nrrd.nrrd', '159.nrrd.nrrd', '16.nrrd.nrrd', '160.nrrd.nrrd', '161.nrrd.nrrd', '162.nrrd.nrrd', '163.nrrd.nrrd', '164.nrrd.nrrd', '165.nrrd.nrrd', '166.nrrd.nrrd', '167.nrrd.nrrd', '168.nrrd.nrrd', '169.nrrd.nrrd', '17.nrrd.nrrd', '170.nrrd.nrrd', '171.nrrd.nrrd', '172.nrrd.nrrd', '173.nrrd.nrrd', '174.nrrd.nrrd', '175.nrrd.nrrd', '176.nrrd.nrrd', '177.nrrd.nrrd', '178.nrrd.nrrd', '179.nrrd.nrrd', '18.nrrd.nrrd', '180.nrrd.nrrd', '181.nrrd.nrrd', '182.nrrd.nrrd', '183.nrrd.nrrd', '184.nrrd.nrrd', '185.nrrd.nrrd', '186.nrrd.nrrd', '187.nrrd.nrrd', '188.nrrd.nrrd', '189.nrrd.nrrd', '19.nrrd.nrrd', '190.nrrd.nrrd', '191.nrrd.nrrd', '192.nrrd.nrrd', '193.nrrd.nrrd', '194.nrrd.nrrd', '195.nrrd.nrrd', '196.nrrd.nrrd', '197.nrrd.nrrd', '198.nrrd.nrrd', '199.nrrd.nrrd', '2.nrrd.nrrd', '20.nrrd.nrrd', '200.nrrd.nrrd', '201.nrrd.nrrd', '202.nrrd.nrrd', '203.nrrd.nrrd', '204.nrrd.nrrd', '205.nrrd.nrrd', '206.nrrd.nrrd', '207.nrrd.nrrd', '208.nrrd.nrrd', '209.nrrd.nrrd', '21.nrrd.nrrd', '210.nrrd.nrrd', '211.nrrd.nrrd', '212.nrrd.nrrd', '213.nrrd.nrrd', '214.nrrd.nrrd', '215.nrrd.nrrd', '216.nrrd.nrrd', '217.nrrd.nrrd', '218.nrrd.nrrd', '219.nrrd.nrrd', '22.nrrd.nrrd', '220.nrrd.nrrd', '221.nrrd.nrrd', '222.nrrd.nrrd', '223.nrrd.nrrd', '224.nrrd.nrrd', '225.nrrd.nrrd', '226.nrrd.nrrd', '227.nrrd.nrrd', '228.nrrd.nrrd', '229.nrrd.nrrd', '23.nrrd.nrrd', '230.nrrd.nrrd', '231.nrrd.nrrd', '232.nrrd.nrrd', '233.nrrd.nrrd', '234.nrrd.nrrd', '235.nrrd.nrrd', '236.nrrd.nrrd', '237.nrrd.nrrd', '238.nrrd.nrrd', '239.nrrd.nrrd', '24.nrrd.nrrd', '240.nrrd.nrrd', '241.nrrd.nrrd', '242.nrrd.nrrd', '243.nrrd.nrrd', '244.nrrd.nrrd', '245.nrrd.nrrd', '246.nrrd.nrrd', '247.nrrd.nrrd', '248.nrrd.nrrd', '249.nrrd.nrrd', '25.nrrd.nrrd', '250.nrrd.nrrd', '251.nrrd.nrrd', '252.nrrd.nrrd', '253.nrrd.nrrd', '254.nrrd.nrrd', '255.nrrd.nrrd', '256.nrrd.nrrd', '257.nrrd.nrrd', '258.nrrd.nrrd', '259.nrrd.nrrd', '26.nrrd.nrrd', '260.nrrd.nrrd', '261.nrrd.nrrd', '262.nrrd.nrrd', '263.nrrd.nrrd', '264.nrrd.nrrd', '265.nrrd.nrrd', '266.nrrd.nrrd', '267.nrrd.nrrd', '268.nrrd.nrrd', '269.nrrd.nrrd', '27.nrrd.nrrd', '270.nrrd.nrrd', '271.nrrd.nrrd', '272.nrrd.nrrd', '273.nrrd.nrrd', '274.nrrd.nrrd', '275.nrrd.nrrd', '276.nrrd.nrrd', '277.nrrd.nrrd', '278.nrrd.nrrd', '279.nrrd.nrrd', '28.nrrd.nrrd', '280.nrrd.nrrd', '281.nrrd.nrrd', '282.nrrd.nrrd', '283.nrrd.nrrd', '284.nrrd.nrrd', '285.nrrd.nrrd', '286.nrrd.nrrd', '287.nrrd.nrrd', '288.nrrd.nrrd', '289.nrrd.nrrd', '29.nrrd.nrrd', '290.nrrd.nrrd', '291.nrrd.nrrd', '292.nrrd.nrrd', '293.nrrd.nrrd', '294.nrrd.nrrd', '295.nrrd.nrrd', '296.nrrd.nrrd', '297.nrrd.nrrd', '298.nrrd.nrrd', '299.nrrd.nrrd', '3.nrrd.nrrd', '30.nrrd.nrrd', '300.nrrd', '301.nrrd', '302.nrrd', '303.nrrd', '304.nrrd', '305.nrrd', '306.nrrd', '307.nrrd', '308.nrrd', '309.nrrd', '31.nrrd', '310.nrrd', '311.nrrd', '312.nrrd', '313.nrrd', '314.nrrd', '315.nrrd', '316.nrrd', '317.nrrd', '318.nrrd', '319.nrrd', '32.nrrd', '320.nrrd', '33.nrrd', '34.nrrd', '35.nrrd', '36.nrrd', '37.nrrd', '38.nrrd', '39.nrrd', '4.nrrd', '40.nrrd', '41.nrrd', '42.nrrd', '43.nrrd', '44.nrrd', '45.nrrd', '46.nrrd', '47.nrrd', '48.nrrd', '49.nrrd', '5.nrrd', '50.nrrd', '51.nrrd', '52.nrrd', '53.nrrd', '54.nrrd', '55.nrrd', '56.nrrd', '57.nrrd', '58.nrrd', '59.nrrd', '6.nrrd', '60.nrrd', '61.nrrd', '62.nrrd', '63.nrrd', '64.nrrd', '65.nrrd', '66.nrrd', '67.nrrd', '68.nrrd', '69.nrrd', '7.nrrd', '70.nrrd', '71.nrrd', '72.nrrd', '73.nrrd', '74.nrrd', '75.nrrd', '76.nrrd', '77.nrrd', '78.nrrd', '79.nrrd', '8.nrrd', '80.nrrd', '81.nrrd', '82.nrrd', '83.nrrd', '84.nrrd', '85.nrrd', '86.nrrd', '87.nrrd', '88.nrrd', '89.nrrd', '9.nrrd', '90.nrrd', '91.nrrd', '92.nrrd', '93.nrrd', '94.nrrd', '95.nrrd', '96.nrrd', '97.nrrd', '98.nrrd', '99.nrrd']\n"
     ]
    }
   ],
   "source": [
    "##python批量更换后缀名\n",
    "import os\n",
    "# 列出当前目录下所有的文件\n",
    "files = os.listdir(r'E:\\course\\31\\machineLearning\\AIforMedicine\\dataset\\胸腰椎图像\\ZIEHM\\20150924\\429\\C1')\n",
    "print(\"files:\",files)\n",
    "prefix = r'E:\\course\\31\\machineLearning\\AIforMedicine\\dataset\\胸腰椎图像\\ZIEHM\\20150924\\429\\C1/'\n",
    "for filename in files:\n",
    "  portion = os.path.splitext(filename)# 如果后缀是.dat\n",
    "  if 'nrrd' in portion[0]:\n",
    "    # 重新组合文件名和后缀名\n",
    "    newname = prefix +  portion[0]\n",
    "    os.rename(prefix + filename,newname)"
   ],
   "metadata": {
    "collapsed": false
   }
  },
  {
   "cell_type": "code",
   "execution_count": null,
   "outputs": [],
   "source": [],
   "metadata": {
    "collapsed": false
   }
  }
 ],
 "metadata": {
  "kernelspec": {
   "display_name": "Python 3",
   "language": "python",
   "name": "python3"
  },
  "language_info": {
   "codemirror_mode": {
    "name": "ipython",
    "version": 2
   },
   "file_extension": ".py",
   "mimetype": "text/x-python",
   "name": "python",
   "nbconvert_exporter": "python",
   "pygments_lexer": "ipython2",
   "version": "2.7.6"
  }
 },
 "nbformat": 4,
 "nbformat_minor": 0
}
