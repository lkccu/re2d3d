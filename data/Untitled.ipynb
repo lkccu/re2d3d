{
 "cells": [
  {
   "cell_type": "code",
   "execution_count": null,
   "id": "6531b405-c5e5-4b2b-9cf2-86c6373f163c",
   "metadata": {},
   "outputs": [],
   "source": [
    "!pip install pynrrd\n",
    "!pip install nibabel\n",
    "import nrrd\n"
   ]
  },
  {
   "cell_type": "code",
   "execution_count": null,
   "id": "bcc503a5-4142-48d6-a23e-a1528bd93e7a",
   "metadata": {},
   "outputs": [],
   "source": [
    "##% Demo 6: Algorithms01\n",
    "#\n",
    "# In this demo the usage of the FDK is explained\n",
    "#\n",
    "# --------------------------------------------------------------------------\n",
    "# --------------------------------------------------------------------------\n",
    "# This file is part of the TIGRE Toolbox\n",
    "#\n",
    "# Copyright (c) 2015, University of Bath and\n",
    "#                     CERN-European Organization for Nuclear Research\n",
    "#                     All rights reserved.\n",
    "#\n",
    "# License:            Open Source under BSD.\n",
    "#                     See the full license at\n",
    "#                     https://github.com/CERN/TIGRE/blob/master/LICENSE\n",
    "#\n",
    "# Contact:            tigre.toolbox@gmail.com\n",
    "# Codes:              https://github.com/CERN/TIGRE/\n",
    "# Coded by:           Ander Biguri\n",
    "# --------------------------------------------------------------------------"
   ]
  },
  {
   "cell_type": "code",
   "execution_count": null,
   "id": "12e89cd1-ef8e-4c6a-bf1c-d3fa69a6f6f6",
   "metadata": {
    "pycharm": {
     "name": "#%%Initialize\n"
    }
   },
   "outputs": [],
   "source": [
    "import tigre\n",
    "import numpy as np\n",
    "from tigre.utilities import sample_loader\n",
    "from tigre.utilities import CTnoise\n",
    "import tigre.algorithms as algs\n",
    "import nrrd\n",
    "import nibabel as nib"
   ]
  },
  {
   "cell_type": "code",
   "execution_count": null,
   "id": "79a8f047-a34c-47ba-b7ad-96756aba8d74",
   "metadata": {
    "pycharm": {
     "name": "#%% Geometry\n"
    }
   },
   "outputs": [],
   "source": []
  },
  {
   "cell_type": "code",
   "execution_count": null,
   "id": "4e04e031-81a5-4833-ace9-c7b931c8ad62",
   "metadata": {},
   "outputs": [],
   "source": [
    "#Geometry settings\n",
    "geo = tigre.geometry(mode='cone',  default=False)\n",
    "geo.DSD = 1500                                     # Distance Source Detector      (mm)\n",
    "geo.DSO = 1000                                     # Distance Source Origin        (mm)\n",
    "# Detector parameters\n",
    "geo.nDetector = np.array((300, 300))               # number of pixels              (px)\n",
    "geo.dDetector = np.array((0.8, 0.8))               # size of each pixel            (mm)\n",
    "geo.sDetector = geo.nDetector * geo.dDetector    # total size of the detector    (mm)\n",
    "# Image parameters\n",
    "geo.nVoxel = np.array((1024, 1024, 390))             # number of voxels              (vx)\n",
    "geo.sVoxel = np.array((128, 128, 128))             # total size of the image       (mm)\n",
    "geo.dVoxel = geo.sVoxel/geo.nVoxel               # size of each voxel            (mm)\n",
    "# Offsets\n",
    "geo.offOrigin = np.array((0, 0, 0))                # Offset of image from origin   (mm)\n",
    "geo.offDetector = np.array((0, 0))                 # Offset of Detector            (mm)"
   ]
  },
  {
   "cell_type": "code",
   "execution_count": null,
   "id": "c1610e1f-6caf-42b1-9353-15cb43b04c37",
   "metadata": {},
   "outputs": [],
   "source": []
  },
  {
   "cell_type": "code",
   "execution_count": null,
   "id": "ff21da48-eacb-4b2e-90cb-86a4cb78a03f",
   "metadata": {
    "pycharm": {
     "name": "#%% Load data and generate projections\n"
    }
   },
   "outputs": [],
   "source": [
    "# define angles\n",
    "angles = np.linspace(0, 2 * np.pi, 100)\n",
    "# Load thorax phatom data\n",
    "pth = r'/root/TIGRE/Python/9.nii.gz'\n",
    "cbct = nib.load(pth)\n",
    "cbct = cbct.get_fdata(dtype = 'float32')\n",
    "# generate projections\n",
    "projections = tigre.Ax(cbct, geo, angles)\n",
    "tigre.plotProj(projections) \n",
    "# add noise\n",
    "noise_projections = CTnoise.add(projections, Poisson=1e5, Gaussian=np.array([0, 10]))\n"
   ]
  },
  {
   "cell_type": "code",
   "execution_count": null,
   "id": "27e400ba-5513-42ef-bb7e-f74005932892",
   "metadata": {},
   "outputs": [],
   "source": [
    "projections.shape"
   ]
  },
  {
   "cell_type": "code",
   "execution_count": null,
   "id": "b6c1c7a1-0010-42d4-9923-c2e8cb544f96",
   "metadata": {},
   "outputs": [],
   "source": []
  },
  {
   "cell_type": "code",
   "execution_count": null,
   "outputs": [],
   "source": [
    "# %% Usage of FDK\n",
    "\n",
    "# the FDK algorithm has been taken and modified from\n",
    "# 3D Cone beam CT (CBCT) projection backprojection FDK, iterative reconstruction Matlab examples\n",
    "# https://www.mathworks.com/matlabcentral/fileexchange/35548-3d-cone-beam-ct--cbct--projection-backprojection-fdk--iterative-reconstruction-matlab-examples\n",
    "\n",
    "# The algorithm takes, as eny of them, 3 mandatory inputs:\n",
    "# PROJECTIONS: Projection data\n",
    "# GEOMETRY   : Geometry describing the system\n",
    "# ANGLES     : Propjection angles\n",
    "# And has a single optional argument:\n",
    "# FILTER: filter type applied to the projections. Possible options are\n",
    "#        'ram_lak' (default)\n",
    "#        'shepp_logan'\n",
    "#        'cosine'\n",
    "#        'hamming'\n",
    "#        'hann'\n",
    "# The choice of filter will modify the noise and sopme discreatization\n",
    "# errors, depending on which is chosen.\n",
    "#\n",
    "imgFDK1 = algs.fdk(noise_projections, geo, angles, filter=\"hann\")\n",
    "imgFDK2 = algs.fdk(noise_projections, geo, angles, filter=\"ram_lak\")\n",
    "\n",
    "# They look quite the same\n",
    "tigre.plotimg(np.concatenate([imgFDK1, imgFDK2], axis=1), dim=\"Z\" )\n",
    "\n",
    "# but it can be seen that one has bigger errors in the whole image, while\n",
    "# hte other just in the boundaries\n",
    "tigre.plotimg(np.concatenate([abs(cbct - imgFDK1), abs(cbct - imgFDK2)], axis=1), dim=\"Z\")\n"
   ],
   "metadata": {
    "collapsed": false
   }
  },
  {
   "cell_type": "code",
   "execution_count": null,
   "outputs": [],
   "source": [],
   "metadata": {
    "collapsed": false
   }
  },
  {
   "cell_type": "code",
   "execution_count": null,
   "outputs": [],
   "source": [],
   "metadata": {
    "collapsed": false
   }
  }
 ],
 "metadata": {
  "kernelspec": {
   "display_name": "Python 3 (ipykernel)",
   "language": "python",
   "name": "python3"
  },
  "language_info": {
   "codemirror_mode": {
    "name": "ipython",
    "version": 3
   },
   "file_extension": ".py",
   "mimetype": "text/x-python",
   "name": "python",
   "nbconvert_exporter": "python",
   "pygments_lexer": "ipython3",
   "version": "3.8.10"
  }
 },
 "nbformat": 4,
 "nbformat_minor": 5
}
