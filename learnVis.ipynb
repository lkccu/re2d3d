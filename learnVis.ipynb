{
 "cells": [
  {
   "cell_type": "code",
   "execution_count": null,
   "metadata": {
    "collapsed": true
   },
   "outputs": [],
   "source": [
    "from tqdm import tqdm\n",
    "# from cv2 import imread, createCLAHE # read and equalize images\n",
    "import numpy as np\n",
    "\n",
    "load_from_file = False\n",
    "\n",
    "if load_from_file:\n",
    "    img_vol = np.load('img_vol.npy')\n",
    "    seg_vol = np.load('seg_vol.npy')\n",
    "else:\n",
    "    img_vol, seg_vol = [], []\n",
    "    for img_path, s_path in tqdm(image_pair_paths):\n",
    "        img_vol_temp = imread(img_path)\n",
    "\n",
    "        if img_vol_temp.shape == (512, 512, 3, 1): # some of the images have 3 channels of ident info, so just take 1st channel\n",
    "            img_vol_temp = img_vol_temp[:, :, 0, :] # just take 1 channel\n",
    "\n",
    "        assert img_vol_temp.shape == (512, 512, 1)\n",
    "        img_vol += [img_vol_temp]\n",
    "\n",
    "        seg_vol_temp = imread(s_path)\n",
    "        if seg_vol_temp.shape == (512, 512, 3, 1): # some of the images have 3 channels of ident info, so just take 1st channel\n",
    "            seg_vol_temp = seg_vol_temp[:, :, 0, :] # just take 1 channel\n",
    "\n",
    "        assert seg_vol_temp.shape == (512, 512, 1)\n",
    "        seg_vol += [seg_vol_temp]\n",
    "\n",
    "    img_vol = np.stack(img_vol,0)\n",
    "    seg_vol = np.stack(seg_vol,0)\n",
    "\n",
    "    np.save('img_vol.npy', img_vol)\n",
    "    np.save('seg_vol.npy', seg_vol)\n",
    "\n",
    "    print('Images', img_vol.shape, 'Segmentations', seg_vol.shape)"
   ]
  },
  {
   "cell_type": "code",
   "execution_count": null,
   "outputs": [],
   "source": [
    "import matplotlib.pyplot as plt\n",
    "\n",
    "print('Validation Xrays', img_vol.shape, img_vol.mean(), img_vol.max())\n",
    "print('Seg', seg_vol.shape, seg_vol.max(), np.unique(seg_vol.ravel()))\n",
    "\n",
    "fig, (ax1, ax1hist, ax2, ax2hist) = plt.subplots(1, 4, figsize = (20, 4))\n",
    "ax1.imshow(img_vol[0, :, :, 0])\n",
    "ax1hist.hist(img_vol.ravel())\n",
    "ax2.imshow(seg_vol[0, :, :, 0]>0.5)\n",
    "ax2hist.hist(seg_vol.ravel());"
   ],
   "metadata": {
    "collapsed": false
   }
  }
 ],
 "metadata": {
  "kernelspec": {
   "display_name": "Python 3",
   "language": "python",
   "name": "python3"
  },
  "language_info": {
   "codemirror_mode": {
    "name": "ipython",
    "version": 2
   },
   "file_extension": ".py",
   "mimetype": "text/x-python",
   "name": "python",
   "nbconvert_exporter": "python",
   "pygments_lexer": "ipython2",
   "version": "2.7.6"
  }
 },
 "nbformat": 4,
 "nbformat_minor": 0
}
